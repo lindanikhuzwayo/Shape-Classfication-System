{
 "cells": [
  {
   "cell_type": "code",
   "execution_count": null,
   "id": "98a023df",
   "metadata": {},
   "outputs": [],
   "source": [
    "from os import listdir\n",
    "import numpy as np\n",
    "from tqdm import tqdm\n",
    "from os.path import join\n",
    "import cv2\n",
    "import matplotlib.pyplot as plt\n",
    "\n",
    "\n",
    "\n",
    "CAT = [\"circle\",\"square\",\"star\",\"triangle\"]\n",
    "IMG_DATA = []\n",
    "X = []\n",
    "Y = []\n",
    "DATA_DIR = \"./Documents/shapes/shapes\""
   ]
  },
  {
   "cell_type": "code",
   "execution_count": null,
   "id": "fa2b9559",
   "metadata": {},
   "outputs": [],
   "source": [
    "def preprocess():\n",
    "    for cat in (CAT):\n",
    "        for img in tqdm(listdir(join(DATA_DIR,cat))):\n",
    "            imgData=cv2.resize(cv2.imread(join(DATA_DIR,cat,img),cv2.IMREAD_GRAYSCALE),(100,100))\n",
    "            IMG_DATA.append([imgData,cat])\n",
    "            \n",
    "preprocess()"
   ]
  },
  {
   "cell_type": "code",
   "execution_count": null,
   "id": "a4e879f8",
   "metadata": {},
   "outputs": [],
   "source": [
    "from random import shuffle\n",
    "shuffle(IMG_DATA)\n",
    "for feature, label in IMG_DATA:\n",
    "    X.append(feature)\n",
    "    Y.append(label)"
   ]
  },
  {
   "cell_type": "code",
   "execution_count": null,
   "id": "617e6178",
   "metadata": {},
   "outputs": [],
   "source": [
    "for i in range(len(Y)):\n",
    "    Y[i]=CAT.index(Y[i])"
   ]
  },
  {
   "cell_type": "code",
   "execution_count": null,
   "id": "b3412e07",
   "metadata": {},
   "outputs": [],
   "source": [
    "X=np.array(X)\n",
    "Y=np.array(Y)\n",
    "X=X.reshape(-1,100,100,1)"
   ]
  },
  {
   "cell_type": "code",
   "execution_count": null,
   "id": "ec2d6a11",
   "metadata": {},
   "outputs": [],
   "source": [
    "X=X/np.float32(255)"
   ]
  },
  {
   "cell_type": "code",
   "execution_count": null,
   "id": "821db0c6",
   "metadata": {},
   "outputs": [],
   "source": [
    "g = np.split(X, 2)\n",
    "X_train = g[0]\n",
    "X_test = g[1]\n",
    "\n",
    "h = np.split(Y, 2)\n",
    "Y_train = h[0]\n",
    "Y_test = h[1]"
   ]
  },
  {
   "cell_type": "code",
   "execution_count": null,
   "id": "4fafba1a",
   "metadata": {},
   "outputs": [],
   "source": [
    "from tensorflow.keras.models import Sequential\n",
    "from tensorflow.keras.layers import Dense,Dropout,Flatten,Conv2D,MaxPooling2D\n",
    "#with tpu_strategy.scope():\n",
    "model = Sequential()\n",
    "\n",
    "model.add(Conv2D(64,(3,3),activation = \"relu\", input_shape = (100,100,1)))\n",
    "model.add(MaxPooling2D((2,2)))\n",
    "model.add(Conv2D(64,(3,3),activation = \"relu\" ))\n",
    "model.add(MaxPooling2D((2,2)))\n",
    "\n",
    "model.add(Flatten())\n",
    "model.add(Dense(256, activation = 'sigmoid'))\n",
    "model.add(Dropout(0.2))\n",
    "model.add(Dense(256, activation='sigmoid'))\n",
    "model.add(Dropout(0.2))\n",
    "model.add(Dense(256, activation='relu'))\n",
    "model.add(Dropout(0.2))\n",
    "\n",
    "model.compile(optimizer='adam', loss='sparse_categorical_crossentropy', metrics=['accuracy'])\n",
    "model.fit(X_train,Y_train, batch_size = 256, epochs=20,validation_split=0.2)"
   ]
  },
  {
   "cell_type": "code",
   "execution_count": null,
   "id": "9ff79e7d",
   "metadata": {},
   "outputs": [],
   "source": [
    "from tensorflow.keras.models import load_model\n",
    "\n",
    "model.save(\"four-shape-model-10\")"
   ]
  },
  {
   "cell_type": "code",
   "execution_count": null,
   "id": "4ca13213",
   "metadata": {},
   "outputs": [],
   "source": [
    "# from tensorflow.keras.models import load_model\n",
    "\n",
    "# import \n",
    "\n",
    "new = load_model(\"four-shape-model-10\")"
   ]
  },
  {
   "cell_type": "code",
   "execution_count": null,
   "id": "d8e1856f",
   "metadata": {},
   "outputs": [],
   "source": [
    "testData = cv2.resize(cv2.imread(\"./Downloads/test_images/1200px-Star_full.svg.png\",cv2.IMREAD_GRAYSCALE),(100,100))\n",
    "\n",
    "plt.imshow(testData,cmap=\"gray\")\n",
    "\n",
    "plt.show()\n",
    "\n",
    "testData=testData.reshape(1,100,100,1)\n",
    "\n",
    "testData.shape"
   ]
  },
  {
   "cell_type": "code",
   "execution_count": null,
   "id": "7849e074",
   "metadata": {},
   "outputs": [],
   "source": [
    "# pred=new.predict(testData)\n",
    "# print(CAT[np.argmax(pred)])\n",
    "# # print(pred)"
   ]
  },
  {
   "cell_type": "code",
   "execution_count": null,
   "id": "c9b2fc9a",
   "metadata": {},
   "outputs": [],
   "source": [
    "test_loss, test_acc = model.evaluate(X_test,Y_test)\n",
    "\n",
    "\n",
    "print(\"test_accuracy: \", test_acc) "
   ]
  },
  {
   "cell_type": "code",
   "execution_count": null,
   "id": "db353cb8",
   "metadata": {},
   "outputs": [],
   "source": []
  }
 ],
 "metadata": {
  "kernelspec": {
   "display_name": "Python 3 (ipykernel)",
   "language": "python",
   "name": "python3"
  },
  "language_info": {
   "codemirror_mode": {
    "name": "ipython",
    "version": 3
   },
   "file_extension": ".py",
   "mimetype": "text/x-python",
   "name": "python",
   "nbconvert_exporter": "python",
   "pygments_lexer": "ipython3",
   "version": "3.9.10"
  }
 },
 "nbformat": 4,
 "nbformat_minor": 5
}
